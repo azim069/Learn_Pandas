{
  "nbformat": 4,
  "nbformat_minor": 0,
  "metadata": {
    "colab": {
      "provenance": [],
      "toc_visible": true
    },
    "kernelspec": {
      "name": "python3",
      "display_name": "Python 3"
    },
    "language_info": {
      "name": "python"
    }
  },
  "cells": [
    {
      "cell_type": "markdown",
      "source": [
        "# 🧨04. Categorical Data"
      ],
      "metadata": {
        "id": "yR3O_WeGITTl"
      }
    },
    {
      "cell_type": "code",
      "source": [
        "import pandas as pd\n",
        "import numpy as np"
      ],
      "metadata": {
        "id": "HihS0CUDvQmR"
      },
      "execution_count": 1,
      "outputs": []
    },
    {
      "cell_type": "code",
      "execution_count": 2,
      "metadata": {
        "id": "OifWIcXPINQE",
        "colab": {
          "base_uri": "https://localhost:8080/"
        },
        "outputId": "d59df11b-6709-4c70-db6d-19bcc73a56bb"
      },
      "outputs": [
        {
          "output_type": "execute_result",
          "data": {
            "text/plain": [
              "0       Axe\n",
              "1     Axeor\n",
              "2       Axe\n",
              "3       Axe\n",
              "4       Axe\n",
              "5     Axeor\n",
              "6       Axe\n",
              "7       Axe\n",
              "8       Axe\n",
              "9     Axeor\n",
              "10      Axe\n",
              "11      Axe\n",
              "12      Axe\n",
              "13    Axeor\n",
              "14      Axe\n",
              "15      Axe\n",
              "dtype: object"
            ]
          },
          "metadata": {},
          "execution_count": 2
        }
      ],
      "source": [
        "vals = pd.Series(['Axe','Axeor','Axe','Axe']*4)\n",
        "vals"
      ]
    },
    {
      "cell_type": "code",
      "source": [
        "#in this series unique values ase are two \n",
        "#Axeor and Axe\n",
        "pd.unique(vals) "
      ],
      "metadata": {
        "colab": {
          "base_uri": "https://localhost:8080/"
        },
        "id": "o08AwzkQueIC",
        "outputId": "5062728c-5b4d-4a1b-fa0e-5ea6e702f213"
      },
      "execution_count": 3,
      "outputs": [
        {
          "output_type": "execute_result",
          "data": {
            "text/plain": [
              "array(['Axe', 'Axeor'], dtype=object)"
            ]
          },
          "metadata": {},
          "execution_count": 3
        }
      ]
    },
    {
      "cell_type": "code",
      "source": [
        "pd.value_counts(vals)"
      ],
      "metadata": {
        "colab": {
          "base_uri": "https://localhost:8080/"
        },
        "id": "yTK3KpnzueE6",
        "outputId": "51fa5111-28b4-4dcb-a8a7-9e66df1073c8"
      },
      "execution_count": 4,
      "outputs": [
        {
          "output_type": "execute_result",
          "data": {
            "text/plain": [
              "Axe      12\n",
              "Axeor     4\n",
              "dtype: int64"
            ]
          },
          "metadata": {},
          "execution_count": 4
        }
      ]
    },
    {
      "cell_type": "code",
      "source": [
        "vals = pd.Series([0,1,0,1]*4)\n",
        "vals_2 = pd.Series(['Axeor','Axe'])"
      ],
      "metadata": {
        "id": "VIVbuf1-wnAT"
      },
      "execution_count": 5,
      "outputs": []
    },
    {
      "cell_type": "code",
      "source": [
        "vals"
      ],
      "metadata": {
        "colab": {
          "base_uri": "https://localhost:8080/"
        },
        "id": "4k-M4falwm9x",
        "outputId": "ffb25d0d-2312-4a90-8317-8de9e5250941"
      },
      "execution_count": 6,
      "outputs": [
        {
          "output_type": "execute_result",
          "data": {
            "text/plain": [
              "0     0\n",
              "1     1\n",
              "2     0\n",
              "3     1\n",
              "4     0\n",
              "5     1\n",
              "6     0\n",
              "7     1\n",
              "8     0\n",
              "9     1\n",
              "10    0\n",
              "11    1\n",
              "12    0\n",
              "13    1\n",
              "14    0\n",
              "15    1\n",
              "dtype: int64"
            ]
          },
          "metadata": {},
          "execution_count": 6
        }
      ]
    },
    {
      "cell_type": "code",
      "source": [
        "vals_2"
      ],
      "metadata": {
        "colab": {
          "base_uri": "https://localhost:8080/"
        },
        "id": "pwYrgfTGwm7C",
        "outputId": "08ff95b0-d8ff-4297-e9ef-e7ead94d69d1"
      },
      "execution_count": 7,
      "outputs": [
        {
          "output_type": "execute_result",
          "data": {
            "text/plain": [
              "0    Axeor\n",
              "1      Axe\n",
              "dtype: object"
            ]
          },
          "metadata": {},
          "execution_count": 7
        }
      ]
    },
    {
      "cell_type": "code",
      "source": [
        "vals_2.take(vals)"
      ],
      "metadata": {
        "colab": {
          "base_uri": "https://localhost:8080/"
        },
        "id": "ZGbaTAnzwm4B",
        "outputId": "fd762140-9855-44e9-bb41-9f65f4fe6f16"
      },
      "execution_count": 8,
      "outputs": [
        {
          "output_type": "execute_result",
          "data": {
            "text/plain": [
              "0    Axeor\n",
              "1      Axe\n",
              "0    Axeor\n",
              "1      Axe\n",
              "0    Axeor\n",
              "1      Axe\n",
              "0    Axeor\n",
              "1      Axe\n",
              "0    Axeor\n",
              "1      Axe\n",
              "0    Axeor\n",
              "1      Axe\n",
              "0    Axeor\n",
              "1      Axe\n",
              "0    Axeor\n",
              "1      Axe\n",
              "dtype: object"
            ]
          },
          "metadata": {},
          "execution_count": 8
        }
      ]
    },
    {
      "cell_type": "markdown",
      "source": [
        "# 🧨4.1 Categorical Extension Type in pandas"
      ],
      "metadata": {
        "id": "ucO4YhGjIpRc"
      }
    },
    {
      "cell_type": "code",
      "source": [
        "color = ['black','orange','black','black']*2\n",
        "n = len(color)\n",
        "n"
      ],
      "metadata": {
        "id": "7HxZTcrJudhz",
        "colab": {
          "base_uri": "https://localhost:8080/"
        },
        "outputId": "0121a8f4-9a7a-4549-dd4e-ce7e3e5bd7c5"
      },
      "execution_count": 9,
      "outputs": [
        {
          "output_type": "execute_result",
          "data": {
            "text/plain": [
              "8"
            ]
          },
          "metadata": {},
          "execution_count": 9
        }
      ]
    },
    {
      "cell_type": "code",
      "source": [
        "rng = np.random.default_rng(seed=12345)\n",
        "rng"
      ],
      "metadata": {
        "colab": {
          "base_uri": "https://localhost:8080/"
        },
        "id": "RC5cJwwUY2bO",
        "outputId": "a360a8b8-e20b-4348-f767-91e19f21a9d4"
      },
      "execution_count": 10,
      "outputs": [
        {
          "output_type": "execute_result",
          "data": {
            "text/plain": [
              "Generator(PCG64) at 0x7F17FEDCAAC0"
            ]
          },
          "metadata": {},
          "execution_count": 10
        }
      ]
    },
    {
      "cell_type": "code",
      "source": [
        "df = pd.DataFrame({'color':color,#color name\n",
        "                   'color_id':np.arange(n),#range of the color val\n",
        "                   'count': rng.integers(3,15,size=n),#(3-15) random val,size is length of color \n",
        "                   'weight':rng.uniform(0,4,size=n)},#as same as count\n",
        "                  columns=['color_id','color','count','weight']    \n",
        ")\n",
        "df"
      ],
      "metadata": {
        "colab": {
          "base_uri": "https://localhost:8080/",
          "height": 300
        },
        "id": "xgoVLeW2Y2X1",
        "outputId": "a48c2884-ffa3-48f3-893c-0007d2102817"
      },
      "execution_count": 11,
      "outputs": [
        {
          "output_type": "execute_result",
          "data": {
            "text/plain": [
              "   color_id   color  count    weight\n",
              "0         0   black     11  1.564438\n",
              "1         1  orange      5  1.331256\n",
              "2         2   black     12  2.393235\n",
              "3         3   black      6  0.746937\n",
              "4         4   black      5  2.691024\n",
              "5         5  orange     12  3.767211\n",
              "6         6   black     10  0.992983\n",
              "7         7   black     11  3.795525"
            ],
            "text/html": [
              "\n",
              "  <div id=\"df-b31879a4-424f-4a03-a38e-6a10ad7350bd\">\n",
              "    <div class=\"colab-df-container\">\n",
              "      <div>\n",
              "<style scoped>\n",
              "    .dataframe tbody tr th:only-of-type {\n",
              "        vertical-align: middle;\n",
              "    }\n",
              "\n",
              "    .dataframe tbody tr th {\n",
              "        vertical-align: top;\n",
              "    }\n",
              "\n",
              "    .dataframe thead th {\n",
              "        text-align: right;\n",
              "    }\n",
              "</style>\n",
              "<table border=\"1\" class=\"dataframe\">\n",
              "  <thead>\n",
              "    <tr style=\"text-align: right;\">\n",
              "      <th></th>\n",
              "      <th>color_id</th>\n",
              "      <th>color</th>\n",
              "      <th>count</th>\n",
              "      <th>weight</th>\n",
              "    </tr>\n",
              "  </thead>\n",
              "  <tbody>\n",
              "    <tr>\n",
              "      <th>0</th>\n",
              "      <td>0</td>\n",
              "      <td>black</td>\n",
              "      <td>11</td>\n",
              "      <td>1.564438</td>\n",
              "    </tr>\n",
              "    <tr>\n",
              "      <th>1</th>\n",
              "      <td>1</td>\n",
              "      <td>orange</td>\n",
              "      <td>5</td>\n",
              "      <td>1.331256</td>\n",
              "    </tr>\n",
              "    <tr>\n",
              "      <th>2</th>\n",
              "      <td>2</td>\n",
              "      <td>black</td>\n",
              "      <td>12</td>\n",
              "      <td>2.393235</td>\n",
              "    </tr>\n",
              "    <tr>\n",
              "      <th>3</th>\n",
              "      <td>3</td>\n",
              "      <td>black</td>\n",
              "      <td>6</td>\n",
              "      <td>0.746937</td>\n",
              "    </tr>\n",
              "    <tr>\n",
              "      <th>4</th>\n",
              "      <td>4</td>\n",
              "      <td>black</td>\n",
              "      <td>5</td>\n",
              "      <td>2.691024</td>\n",
              "    </tr>\n",
              "    <tr>\n",
              "      <th>5</th>\n",
              "      <td>5</td>\n",
              "      <td>orange</td>\n",
              "      <td>12</td>\n",
              "      <td>3.767211</td>\n",
              "    </tr>\n",
              "    <tr>\n",
              "      <th>6</th>\n",
              "      <td>6</td>\n",
              "      <td>black</td>\n",
              "      <td>10</td>\n",
              "      <td>0.992983</td>\n",
              "    </tr>\n",
              "    <tr>\n",
              "      <th>7</th>\n",
              "      <td>7</td>\n",
              "      <td>black</td>\n",
              "      <td>11</td>\n",
              "      <td>3.795525</td>\n",
              "    </tr>\n",
              "  </tbody>\n",
              "</table>\n",
              "</div>\n",
              "      <button class=\"colab-df-convert\" onclick=\"convertToInteractive('df-b31879a4-424f-4a03-a38e-6a10ad7350bd')\"\n",
              "              title=\"Convert this dataframe to an interactive table.\"\n",
              "              style=\"display:none;\">\n",
              "        \n",
              "  <svg xmlns=\"http://www.w3.org/2000/svg\" height=\"24px\"viewBox=\"0 0 24 24\"\n",
              "       width=\"24px\">\n",
              "    <path d=\"M0 0h24v24H0V0z\" fill=\"none\"/>\n",
              "    <path d=\"M18.56 5.44l.94 2.06.94-2.06 2.06-.94-2.06-.94-.94-2.06-.94 2.06-2.06.94zm-11 1L8.5 8.5l.94-2.06 2.06-.94-2.06-.94L8.5 2.5l-.94 2.06-2.06.94zm10 10l.94 2.06.94-2.06 2.06-.94-2.06-.94-.94-2.06-.94 2.06-2.06.94z\"/><path d=\"M17.41 7.96l-1.37-1.37c-.4-.4-.92-.59-1.43-.59-.52 0-1.04.2-1.43.59L10.3 9.45l-7.72 7.72c-.78.78-.78 2.05 0 2.83L4 21.41c.39.39.9.59 1.41.59.51 0 1.02-.2 1.41-.59l7.78-7.78 2.81-2.81c.8-.78.8-2.07 0-2.86zM5.41 20L4 18.59l7.72-7.72 1.47 1.35L5.41 20z\"/>\n",
              "  </svg>\n",
              "      </button>\n",
              "      \n",
              "  <style>\n",
              "    .colab-df-container {\n",
              "      display:flex;\n",
              "      flex-wrap:wrap;\n",
              "      gap: 12px;\n",
              "    }\n",
              "\n",
              "    .colab-df-convert {\n",
              "      background-color: #E8F0FE;\n",
              "      border: none;\n",
              "      border-radius: 50%;\n",
              "      cursor: pointer;\n",
              "      display: none;\n",
              "      fill: #1967D2;\n",
              "      height: 32px;\n",
              "      padding: 0 0 0 0;\n",
              "      width: 32px;\n",
              "    }\n",
              "\n",
              "    .colab-df-convert:hover {\n",
              "      background-color: #E2EBFA;\n",
              "      box-shadow: 0px 1px 2px rgba(60, 64, 67, 0.3), 0px 1px 3px 1px rgba(60, 64, 67, 0.15);\n",
              "      fill: #174EA6;\n",
              "    }\n",
              "\n",
              "    [theme=dark] .colab-df-convert {\n",
              "      background-color: #3B4455;\n",
              "      fill: #D2E3FC;\n",
              "    }\n",
              "\n",
              "    [theme=dark] .colab-df-convert:hover {\n",
              "      background-color: #434B5C;\n",
              "      box-shadow: 0px 1px 3px 1px rgba(0, 0, 0, 0.15);\n",
              "      filter: drop-shadow(0px 1px 2px rgba(0, 0, 0, 0.3));\n",
              "      fill: #FFFFFF;\n",
              "    }\n",
              "  </style>\n",
              "\n",
              "      <script>\n",
              "        const buttonEl =\n",
              "          document.querySelector('#df-b31879a4-424f-4a03-a38e-6a10ad7350bd button.colab-df-convert');\n",
              "        buttonEl.style.display =\n",
              "          google.colab.kernel.accessAllowed ? 'block' : 'none';\n",
              "\n",
              "        async function convertToInteractive(key) {\n",
              "          const element = document.querySelector('#df-b31879a4-424f-4a03-a38e-6a10ad7350bd');\n",
              "          const dataTable =\n",
              "            await google.colab.kernel.invokeFunction('convertToInteractive',\n",
              "                                                     [key], {});\n",
              "          if (!dataTable) return;\n",
              "\n",
              "          const docLinkHtml = 'Like what you see? Visit the ' +\n",
              "            '<a target=\"_blank\" href=https://colab.research.google.com/notebooks/data_table.ipynb>data table notebook</a>'\n",
              "            + ' to learn more about interactive tables.';\n",
              "          element.innerHTML = '';\n",
              "          dataTable['output_type'] = 'display_data';\n",
              "          await google.colab.output.renderOutput(dataTable, element);\n",
              "          const docLink = document.createElement('div');\n",
              "          docLink.innerHTML = docLinkHtml;\n",
              "          element.appendChild(docLink);\n",
              "        }\n",
              "      </script>\n",
              "    </div>\n",
              "  </div>\n",
              "  "
            ]
          },
          "metadata": {},
          "execution_count": 11
        }
      ]
    },
    {
      "cell_type": "code",
      "source": [
        "#now creating categorical val \n",
        "color_cat= df['color'].astype('category')\n",
        "color_cat"
      ],
      "metadata": {
        "colab": {
          "base_uri": "https://localhost:8080/"
        },
        "id": "47DnD84nY2Ue",
        "outputId": "854139ac-9561-4b6f-eda1-55dd8d193a19"
      },
      "execution_count": 12,
      "outputs": [
        {
          "output_type": "execute_result",
          "data": {
            "text/plain": [
              "0     black\n",
              "1    orange\n",
              "2     black\n",
              "3     black\n",
              "4     black\n",
              "5    orange\n",
              "6     black\n",
              "7     black\n",
              "Name: color, dtype: category\n",
              "Categories (2, object): ['black', 'orange']"
            ]
          },
          "metadata": {},
          "execution_count": 12
        }
      ]
    },
    {
      "cell_type": "code",
      "source": [
        "c = color_cat.array\n",
        "type(c)"
      ],
      "metadata": {
        "colab": {
          "base_uri": "https://localhost:8080/"
        },
        "id": "8Tx8sqxeY2RE",
        "outputId": "95b98d80-360c-420a-d913-de7604687ad4"
      },
      "execution_count": 13,
      "outputs": [
        {
          "output_type": "execute_result",
          "data": {
            "text/plain": [
              "pandas.core.arrays.categorical.Categorical"
            ]
          },
          "metadata": {},
          "execution_count": 13
        }
      ]
    },
    {
      "cell_type": "code",
      "source": [
        "c.categories"
      ],
      "metadata": {
        "colab": {
          "base_uri": "https://localhost:8080/"
        },
        "id": "L65NIXwpY2Ll",
        "outputId": "5098d5ad-dde6-4d07-ac90-178837f8dc25"
      },
      "execution_count": 14,
      "outputs": [
        {
          "output_type": "execute_result",
          "data": {
            "text/plain": [
              "Index(['black', 'orange'], dtype='object')"
            ]
          },
          "metadata": {},
          "execution_count": 14
        }
      ]
    },
    {
      "cell_type": "code",
      "source": [
        "dict(enumerate(c.categories))"
      ],
      "metadata": {
        "colab": {
          "base_uri": "https://localhost:8080/"
        },
        "id": "OuaHdLfKY2It",
        "outputId": "23345dbb-42c6-41b2-e0d8-72b223989b16"
      },
      "execution_count": 15,
      "outputs": [
        {
          "output_type": "execute_result",
          "data": {
            "text/plain": [
              "{0: 'black', 1: 'orange'}"
            ]
          },
          "metadata": {},
          "execution_count": 15
        }
      ]
    },
    {
      "cell_type": "code",
      "source": [
        "#change val in main data\n",
        "df['color'] = df['color'].astype('category')\n",
        "df['color']"
      ],
      "metadata": {
        "colab": {
          "base_uri": "https://localhost:8080/"
        },
        "id": "jrZWo2-AcLYl",
        "outputId": "3b4bd89e-91fc-4abc-ba89-ab4723647868"
      },
      "execution_count": 16,
      "outputs": [
        {
          "output_type": "execute_result",
          "data": {
            "text/plain": [
              "0     black\n",
              "1    orange\n",
              "2     black\n",
              "3     black\n",
              "4     black\n",
              "5    orange\n",
              "6     black\n",
              "7     black\n",
              "Name: color, dtype: category\n",
              "Categories (2, object): ['black', 'orange']"
            ]
          },
          "metadata": {},
          "execution_count": 16
        }
      ]
    },
    {
      "cell_type": "code",
      "source": [
        "cate = ['Axe','Axeor','or']\n",
        "codes = [0,1,2,1,0,1,0]\n",
        "my_cate=pd.Categorical.from_codes(codes,cate)\n",
        "my_cate"
      ],
      "metadata": {
        "colab": {
          "base_uri": "https://localhost:8080/"
        },
        "id": "TkoyXF4RcLWF",
        "outputId": "fb8c3d32-ff4d-4022-a580-93d0da48d2d1"
      },
      "execution_count": 17,
      "outputs": [
        {
          "output_type": "execute_result",
          "data": {
            "text/plain": [
              "['Axe', 'Axeor', 'or', 'Axeor', 'Axe', 'Axeor', 'Axe']\n",
              "Categories (3, object): ['Axe', 'Axeor', 'or']"
            ]
          },
          "metadata": {},
          "execution_count": 17
        }
      ]
    },
    {
      "cell_type": "code",
      "source": [
        "my_cate.as_ordered()"
      ],
      "metadata": {
        "id": "Qpo5f7R9cLTV",
        "colab": {
          "base_uri": "https://localhost:8080/"
        },
        "outputId": "823ace93-39b7-4c7c-d56c-5d506d287c67"
      },
      "execution_count": 18,
      "outputs": [
        {
          "output_type": "execute_result",
          "data": {
            "text/plain": [
              "['Axe', 'Axeor', 'or', 'Axeor', 'Axe', 'Axeor', 'Axe']\n",
              "Categories (3, object): ['Axe' < 'Axeor' < 'or']"
            ]
          },
          "metadata": {},
          "execution_count": 18
        }
      ]
    },
    {
      "cell_type": "markdown",
      "source": [
        "# 🧨4.2 Computations with Categoricals "
      ],
      "metadata": {
        "id": "1wCMS_EdI4ck"
      }
    },
    {
      "cell_type": "code",
      "source": [
        "rng = np.random.default_rng(seed=12345)\n",
        "draws = rng.standard_normal(1000)\n",
        "draws"
      ],
      "metadata": {
        "colab": {
          "base_uri": "https://localhost:8080/"
        },
        "id": "CgRx3I_WTgcR",
        "outputId": "d48ed11b-67a4-4662-8e69-ec8e000ad61f"
      },
      "execution_count": 19,
      "outputs": [
        {
          "output_type": "execute_result",
          "data": {
            "text/plain": [
              "array([-1.42382504e+00,  1.26372846e+00, -8.70661738e-01, -2.59173235e-01,\n",
              "       -7.53433070e-02, -7.40884652e-01, -1.36779270e+00,  6.48892802e-01,\n",
              "        3.61058113e-01, -1.95286306e+00,  2.34740965e+00,  9.68496906e-01,\n",
              "       -7.59387180e-01,  9.02198274e-01, -4.66953173e-01, -6.06895187e-02,\n",
              "        7.88844345e-01, -1.25666813e+00,  5.75857514e-01,  1.39897899e+00,\n",
              "        1.32229806e+00, -2.99698515e-01,  9.02919341e-01, -1.62158273e+00,\n",
              "       -1.58189261e-01,  4.49483932e-01, -1.34360107e+00, -8.16875907e-02,\n",
              "        1.72473993e+00,  2.61815943e+00,  7.77361344e-01,  8.28633196e-01,\n",
              "       -9.58988313e-01, -1.20938829e+00, -1.41229201e+00,  5.41546830e-01,\n",
              "        7.51939396e-01, -6.58760320e-01, -1.22867499e+00,  2.57557768e-01,\n",
              "        3.12902918e-01, -1.30811690e-01,  1.26998312e+00, -9.29624577e-02,\n",
              "       -6.61508890e-02, -1.10821447e+00,  1.35956851e-01,  1.34707776e+00,\n",
              "        6.11440210e-02,  7.09146003e-02,  4.33654537e-01,  2.77483660e-01,\n",
              "        5.30252387e-01,  5.36720969e-01,  6.18350015e-01, -7.95017456e-01,\n",
              "        3.00030946e-01, -1.60270159e+00,  2.66798830e-01, -1.26162378e+00,\n",
              "       -7.12708062e-02,  4.74049730e-01, -4.14853761e-01,  9.77165000e-02,\n",
              "       -1.64041784e+00, -8.57258824e-01,  6.88281788e-01, -1.15452958e+00,\n",
              "        6.50452389e-01, -1.38835995e+00, -9.07382457e-01, -1.09542531e+00,\n",
              "        7.14569494e-03,  5.34359903e-01, -1.06580785e+00, -1.81472740e-01,\n",
              "        1.62195180e+00, -3.17391946e-01, -8.15814967e-01,  3.86579017e-01,\n",
              "       -2.23638926e-01, -7.01690809e-01, -1.79571318e+00,  8.18325622e-01,\n",
              "       -5.71032902e-01,  7.85525063e-04, -1.06364272e+00,  1.30171450e+00,\n",
              "        7.47872942e-01,  9.80875909e-01, -1.10418688e-01,  4.67918531e-01,\n",
              "        8.90607150e-01,  1.02300937e+00,  3.12383389e-01, -6.19046857e-02,\n",
              "       -3.59479647e-01, -7.48643984e-01, -9.65478907e-01,  3.60034657e-01,\n",
              "       -2.44552532e-01, -1.99585661e+00, -1.55247617e-01,  1.06383087e+00,\n",
              "       -2.75171567e-01, -1.85333593e+00, -1.24341928e-01,  7.84974522e-01,\n",
              "        2.01998597e-01, -4.28074443e-01,  1.84828890e+00,  1.89995289e+00,\n",
              "       -9.84250348e-02,  8.13445440e-01,  3.92494389e-01,  7.81442900e-01,\n",
              "        1.45327152e+00,  8.20186045e-01,  8.77053446e-02, -6.53505648e-01,\n",
              "       -8.11886879e-01, -2.55381724e-02,  1.15818454e+00,  3.00520870e-01,\n",
              "        5.30566461e-02,  2.57271524e-01,  3.57428624e-02,  5.47236686e-01,\n",
              "       -1.12296158e+00, -1.97524767e+00, -4.25150050e-01, -1.14907382e+00,\n",
              "        1.61513805e+00, -1.58476860e-01, -2.52873345e-01, -1.53815403e+00,\n",
              "        2.82086033e-01, -6.23612134e-01,  1.12182226e+00,  8.41221031e-01,\n",
              "       -7.75896101e-01,  4.10716440e-01, -2.72241610e+00, -6.73304799e-01,\n",
              "        1.24622153e+00,  7.90208028e-01,  1.75340888e-01, -2.92946016e-02,\n",
              "       -1.41951426e+00, -1.35996632e+00,  2.23411559e-01,  1.76177943e+00,\n",
              "       -2.17088985e+00,  6.28488171e-01,  6.01196526e-01,  9.50757858e-01,\n",
              "       -8.69246667e-01, -5.29007071e-01,  4.56840956e-02, -1.02755181e+00,\n",
              "       -1.22928930e+00, -8.83358472e-01, -7.08934637e-02,  3.74053351e-01,\n",
              "       -2.45937384e-02,  7.72606583e-02, -6.83913218e-01, -7.20837668e-01,\n",
              "        1.12062282e+00, -5.48141603e-02, -8.24137242e-02,  9.35986501e-01,\n",
              "        1.23853712e+00,  1.27279553e+00,  4.05892218e-01, -5.03252214e-02,\n",
              "        2.89317539e-01,  1.79305677e-01,  1.39748056e+00,  2.92046792e-01,\n",
              "        6.38405674e-01, -2.78877131e-02,  1.37105185e+00, -2.05280763e+00,\n",
              "        3.80509078e-01,  7.55390669e-01, -1.15912585e+00,  2.15031011e+00,\n",
              "       -1.50270219e-01, -1.61164280e-01, -1.07944248e+00,  8.77966184e-01,\n",
              "        2.24467414e-01, -5.91593454e-01,  2.26262802e-01,  6.86182507e-01,\n",
              "        1.21500461e+00,  2.16059441e-01, -9.64823557e-01, -5.56607805e-01,\n",
              "       -2.29838764e+00, -7.32082126e-01,  7.36469100e-01,  4.65716719e-01,\n",
              "       -1.07876049e-01, -3.41436294e-01,  1.58453379e+00,  2.82241206e-01,\n",
              "        9.09546391e-01,  3.95071566e-01, -6.69376519e-01,  1.55536898e+00,\n",
              "       -1.23813903e+00, -1.19617346e+00, -4.29149506e-01, -7.29659893e-01,\n",
              "       -5.57468899e-01, -5.99953064e-01,  9.86827204e-01,  5.41946751e-02,\n",
              "        3.51907443e-01, -1.58796951e+00, -8.46951349e-01,  1.08457026e+00,\n",
              "       -1.20382665e+00,  1.17853089e+00, -1.03066585e+00,  2.99218328e-01,\n",
              "       -8.46239971e-01,  1.96620300e-01, -8.99637825e-01, -2.56605429e-01,\n",
              "        1.67254777e+00, -3.75269646e-01,  2.03679478e+00, -4.58793398e-01,\n",
              "       -1.17576966e+00,  7.50524988e-02, -4.08990215e-01,  1.75653198e+00,\n",
              "        8.60923069e-01,  1.18127398e+00,  6.31670171e-01,  2.47099711e+00,\n",
              "        7.94302517e-01,  5.31352878e-01, -8.29398597e-01, -9.09303834e-01,\n",
              "        1.84235934e-01,  9.97738175e-01,  1.11695904e+00, -9.44000541e-01,\n",
              "        5.31406704e-01,  1.93345997e-01, -1.11826358e+00,  5.11845582e-01,\n",
              "       -2.27056629e+00,  2.63163546e-01,  2.47131349e+00, -1.01988520e+00,\n",
              "        1.87526150e-02, -1.89426422e+00, -7.55001656e-01,  7.56197740e-01,\n",
              "       -1.04246201e+00, -3.42581430e-02, -3.55168299e-01, -3.78428368e-01,\n",
              "        1.90648688e-01,  4.84396294e-01,  1.23026775e+00,  8.32970623e-01,\n",
              "       -5.64941752e-01,  1.41469601e+00,  1.24828122e+00, -1.55894810e+00,\n",
              "        6.65232592e-01,  8.25595172e-01,  9.66318833e-01,  5.47175299e-01,\n",
              "       -1.29718326e+00, -2.67634333e-01, -2.07020656e+00, -1.57892554e-01,\n",
              "        2.02894262e+00,  6.81570885e-01,  8.36203582e-01, -5.13488047e-01,\n",
              "       -1.01573661e+00, -1.07027090e+00,  1.23912658e-01, -8.03015882e-01,\n",
              "       -6.37635747e-01,  1.14449564e+00, -1.64090191e+00, -1.31400358e+00,\n",
              "       -5.10352510e-01, -9.98608839e-02, -1.29506764e-01, -1.39670506e+00,\n",
              "        1.93809351e-01, -1.29292728e-01,  3.54479094e-01, -1.08287264e+00,\n",
              "        2.44939235e-01,  2.20820791e-01, -6.60432484e-01, -2.18535151e-01,\n",
              "       -5.55999012e-01,  1.35638101e+00, -3.11960863e+00, -1.44767170e+00,\n",
              "       -1.70578539e+00, -3.78119923e-01, -6.78493916e-01, -4.11245934e-01,\n",
              "        7.19012644e-01, -1.63251948e+00, -8.45693631e-01, -2.23100058e-01,\n",
              "       -1.20221832e+00,  3.69987683e-01,  3.29997358e-01, -7.10446611e-01,\n",
              "       -1.77110716e+00,  1.60083585e+00,  4.71098065e-01,  4.23750625e-01,\n",
              "        7.22604814e-02, -7.34696662e-03,  8.31075673e-01, -1.56055249e-02,\n",
              "       -6.30906338e-01,  7.09501385e-01,  5.96951708e-02, -7.72475747e-01,\n",
              "       -9.06239094e-01,  1.16547928e+00,  6.31047402e-01,  1.97551858e+00,\n",
              "       -5.26655196e-01, -7.43540587e-01,  4.03890571e-01,  1.37940685e+00,\n",
              "        5.96752401e-01,  4.33153072e-01,  1.88698807e+00, -7.43390939e-01,\n",
              "       -1.24794902e+00, -7.44618316e-01, -3.16856989e-01,  3.73351314e-01,\n",
              "        1.02196035e+00,  4.05609723e-01,  1.52331375e+00, -8.27508128e-01,\n",
              "        1.90549546e+00, -8.12021693e-01,  1.17073624e+00, -9.37842967e-01,\n",
              "        3.43267007e-01,  5.08984102e-02,  5.17559645e-01,  7.51424764e-01,\n",
              "       -2.13199171e-01, -6.68236776e-02,  2.39111718e-01, -1.30500814e+00,\n",
              "       -7.31236440e-01, -1.62440684e+00,  5.25050962e-03,  2.22215696e+00,\n",
              "        7.41309224e-01, -8.65429707e-01, -7.07684696e-01,  9.75898764e-01,\n",
              "       -4.74409383e-01, -1.60848203e+00, -1.02291555e+00, -1.05425642e+00,\n",
              "       -1.02139871e+00,  6.75950820e-01,  7.07028719e-02, -1.48863945e+00,\n",
              "       -5.39796993e-01, -1.13832102e+00, -1.20842052e+00, -1.50667492e+00,\n",
              "        1.74716204e+00, -3.07329521e-01,  5.76230584e-01,  8.68743678e-01,\n",
              "       -3.84271666e-01,  5.34919539e-01,  5.40615879e-01,  2.22456521e-01,\n",
              "        2.16953213e+00,  2.83928102e-01, -2.28490514e-01,  6.46164480e-01,\n",
              "        1.77796354e+00,  9.94308000e-01, -4.78299892e-01, -8.58764574e-01,\n",
              "       -9.30850286e-01, -6.61899356e-01,  3.86500903e-01,  8.45988292e-01,\n",
              "       -2.26994787e+00, -1.86681654e-02, -1.10501888e+00,  6.82899732e-01,\n",
              "        9.14518493e-01, -7.78352115e-01, -4.49423204e-01, -9.51618630e-01,\n",
              "        3.91078535e-01, -1.60996181e+00, -1.12557525e+00, -6.84623837e-01,\n",
              "        1.22651896e+00,  2.40247280e+00,  1.99584190e-02, -1.23157125e+00,\n",
              "        7.41864685e-02, -8.69049593e-01,  4.59819568e-01, -1.11370451e+00,\n",
              "       -3.69487350e-01, -1.41055279e-02,  5.19943798e-01, -7.68884933e-02,\n",
              "        1.26588858e+00,  1.24232762e-01, -1.81381491e+00,  9.24059031e-01,\n",
              "       -2.91113406e-01, -6.69762242e-01,  1.50768468e+00, -9.93606188e-01,\n",
              "        7.26674371e-02, -7.12974484e-01,  1.35242893e+00, -3.64017286e-01,\n",
              "        2.35699478e-01, -1.39228465e+00,  1.43473399e+00, -1.06952042e+00,\n",
              "        9.10459323e-01,  1.11370559e+00,  1.23231538e+00,  1.81411281e+00,\n",
              "       -1.17073802e+00,  4.01982178e-01,  1.37969649e-01,  4.19915493e-01,\n",
              "        1.09831954e+00,  1.09361768e-01, -8.16919212e-01, -9.72529682e-02,\n",
              "        1.53923643e+00, -1.17898747e+00,  7.96842462e-02, -9.81300666e-01,\n",
              "        1.10877941e+00, -1.64844862e+00, -3.41086469e-01, -1.24194966e-01,\n",
              "        1.16915739e-01,  2.36121870e+00,  1.55516878e+00, -1.02985940e+00,\n",
              "        2.15940445e+00, -1.19253343e+00, -1.87089050e+00, -1.49848205e+00,\n",
              "        2.03450471e-01,  5.34860586e-01, -2.21108587e+00,  4.35974191e-01,\n",
              "       -2.67052169e-01,  7.06389532e-01, -3.84606815e-01,  9.00081711e-01,\n",
              "        5.64345130e-01, -1.17264499e+00,  1.44559200e+00,  2.12427128e-01,\n",
              "        7.30048821e-01,  1.26177194e+00, -9.74758332e-01, -8.47372106e-02,\n",
              "       -8.21697969e-01, -9.42372732e-01,  2.65979546e-01,  3.39791108e-01,\n",
              "        1.33140349e+00,  1.38554064e+00, -2.13583034e-02, -8.37064726e-01,\n",
              "        3.20068942e+00,  2.14788244e+00, -1.06664772e-01, -9.30154944e-01,\n",
              "       -4.23674369e-01,  2.80961046e-01,  1.13155122e+00,  9.69383232e-01,\n",
              "        4.35415205e-01, -2.47125731e-01,  1.68185205e-01, -3.10624535e-01,\n",
              "        7.09335975e-02, -1.03372303e-01,  5.25325277e-01, -1.88267705e+00,\n",
              "       -3.45678008e-01, -2.91309198e-01, -1.13063834e+00, -1.72724675e-01,\n",
              "       -1.05354233e+00, -6.64553142e-01, -2.89681998e-01, -2.53171766e-01,\n",
              "       -5.73783158e-01,  1.10347462e+00,  2.01165087e-01,  3.22351424e-01,\n",
              "        2.33092758e-01, -6.68065235e-01, -8.83219013e-01,  8.39639691e-01,\n",
              "       -3.53077897e-01, -1.77113747e+00, -2.19878710e+00,  2.21760184e-01,\n",
              "       -7.37077207e-01, -6.75838533e-02, -5.47254160e-01, -4.07414631e-01,\n",
              "       -1.72737620e-01, -1.24740736e+00, -1.87624193e-02,  9.86123587e-01,\n",
              "        6.95674273e-01, -1.73962463e+00, -1.34163608e+00, -1.33282638e+00,\n",
              "       -2.48068818e-01,  8.54834793e-01,  3.22984340e-01, -1.75364283e+00,\n",
              "        5.48855340e-02,  8.07411591e-01, -4.49013978e-01,  1.90417969e+00,\n",
              "       -6.51468305e-01,  1.17248231e+00,  2.35122688e+00, -1.27642360e+00,\n",
              "       -3.23686621e-01,  5.74696204e-01,  3.21141765e+00, -1.78846554e+00,\n",
              "        5.66050226e-01,  2.84796348e-01, -4.22376126e-01, -8.34852439e-01,\n",
              "       -5.25916185e-01, -3.03053674e-01, -1.26985950e+00,  1.57548510e+00,\n",
              "       -1.10845010e+00, -4.27519357e-01, -6.61481082e-01, -4.13253934e-01,\n",
              "        9.29779267e-02, -7.57597067e-01, -2.36129912e-01,  1.72446043e+00,\n",
              "        1.05620035e+00, -2.88028999e-01,  9.07177602e-01, -7.68494068e-01,\n",
              "        2.25931240e-01, -1.42854248e+00, -1.14411867e+00, -8.66556389e-01,\n",
              "        1.23753573e+00,  2.30691366e-01,  5.47763034e-01,  1.51652927e-01,\n",
              "        3.66900043e-01,  4.19478919e-01,  7.65321189e-01,  1.61256679e-01,\n",
              "       -9.16034823e-01, -7.90918993e-01,  1.21417311e+00,  1.41180344e+00,\n",
              "        5.59364429e-01, -1.64489871e+00,  1.57517058e+00,  3.22935600e-01,\n",
              "       -7.45220037e-02,  1.96548842e-02, -3.72683645e-01,  1.75834442e+00,\n",
              "        1.68263067e+00, -1.06481789e+00, -1.89796109e-01,  3.03403443e-01,\n",
              "        1.27573152e+00, -2.42960165e+00,  9.30610015e-01,  1.66783860e+00,\n",
              "       -3.34090032e-01, -5.15106149e-02,  1.24325830e+00,  3.67036430e-01,\n",
              "       -1.34618662e+00, -1.18188225e+00, -1.04500481e+00, -1.43236727e+00,\n",
              "       -2.00886227e-02, -5.34166690e-01,  2.68754533e-02,  6.92732323e-01,\n",
              "        1.77458224e+00,  2.02141113e-01, -1.88084695e+00,  1.37878553e+00,\n",
              "       -1.33647093e-01,  1.15171173e+00, -4.66425062e-01,  2.88564390e-01,\n",
              "       -1.51156922e-01, -4.21025412e-02,  1.26211915e+00, -6.72702969e-01,\n",
              "        1.47547470e-01,  2.03816429e-01, -4.06218846e-01, -2.22197231e+00,\n",
              "        3.31811656e-01, -2.86054756e+00, -1.52344944e+00, -4.77970317e-01,\n",
              "        4.12657231e-01,  8.46392900e-01,  8.12101895e-01,  5.80603328e-01,\n",
              "       -3.81073120e-01,  1.20099431e+00, -2.83772779e-01,  1.10710475e+00,\n",
              "       -2.25610096e+00, -9.71854993e-01, -5.92905332e-01, -1.80984888e-02,\n",
              "       -2.41274891e+00,  7.99226280e-01,  9.76130692e-01,  7.73092119e-01,\n",
              "       -5.33216690e-01,  1.44149015e+00, -5.63981533e-01,  8.93470827e-01,\n",
              "       -7.42512680e-02, -3.46069864e-02, -1.70816032e-01, -3.65517036e-02,\n",
              "        1.09806562e+00,  1.42629484e+00,  1.41467983e+00,  8.94438213e-01,\n",
              "        6.53670700e-01,  4.37152200e-01,  1.74635813e+00, -4.57095959e-01,\n",
              "       -6.49308823e-01,  3.29631178e-02, -1.68504146e+00, -2.52598256e-01,\n",
              "       -7.40313034e-02, -1.04422943e+00, -5.92776806e-01,  6.80170674e-01,\n",
              "       -2.45973193e-01,  6.05624791e-02,  1.01972358e+00, -6.30050546e-01,\n",
              "       -1.16037758e+00, -5.68747898e-02,  4.09270722e-01, -1.82967470e+00,\n",
              "        6.41954142e-01, -3.29663996e-01, -4.29324018e-01, -8.76878553e-01,\n",
              "       -1.99605506e-01,  9.50270920e-01,  5.13872750e-01,  7.97806039e-01,\n",
              "       -3.78129354e-01,  1.58223187e+00,  1.26565747e+00, -2.97258104e-02,\n",
              "       -2.63975939e+00,  5.11408937e-02,  2.74776943e+00, -6.41340596e-02,\n",
              "       -1.03022593e+00,  1.69910136e+00, -6.23692147e-01,  4.87480901e-01,\n",
              "        7.59003689e-01, -1.47967223e+00,  1.21195076e-01,  1.18862963e+00,\n",
              "       -3.33439437e-01,  6.49091238e-01, -2.68320151e-02,  1.02504738e+00,\n",
              "        1.84822504e+00, -1.10302841e+00, -2.90388788e-01,  3.91568101e-01,\n",
              "       -6.35179488e-01, -8.30046051e-01, -3.49766369e-01, -2.73043102e-01,\n",
              "       -6.57943966e-01,  3.26871488e-01,  8.06477506e-01,  7.45273260e-01,\n",
              "        6.79356544e-01,  1.19250597e+00, -1.36682791e+00, -1.16610196e-01,\n",
              "        1.89020240e-01,  5.25771351e-01, -1.61611005e+00,  1.88072206e+00,\n",
              "       -8.90609769e-01,  2.64065068e-01,  7.37306312e-01,  1.08683733e+00,\n",
              "       -6.86425763e-01, -5.41809934e-01,  3.71199796e-01,  5.87459116e-01,\n",
              "        9.12199847e-01, -5.58262834e-02, -6.93849578e-01, -1.33469428e+00,\n",
              "        1.74643808e+00, -1.37337178e+00,  7.01209730e-01,  2.80065839e-01,\n",
              "        7.64387370e-01,  9.56512535e-01,  1.35260228e+00, -5.57675673e-02,\n",
              "        4.00128333e-01, -1.95141827e+00,  4.87654583e-02, -9.04456538e-01,\n",
              "       -1.50266126e-01,  1.24142710e+00,  1.10711736e-01,  1.09518667e+00,\n",
              "       -1.96699537e-01,  4.04457880e-01, -4.08996512e-01, -2.54134859e+00,\n",
              "       -7.09034551e-01, -2.61584450e-01,  1.62631878e-01,  8.00948081e-03,\n",
              "       -1.20706299e-01,  9.54237782e-01,  6.31583051e-01, -3.91507141e-01,\n",
              "        8.78542722e-01, -1.97955644e+00, -2.75772309e-01, -1.40276139e-01,\n",
              "        1.31070480e+00, -5.28500651e-01, -1.46383938e+00,  1.85654973e-01,\n",
              "        1.70252885e+00, -1.99544374e-01, -8.88567225e-02, -1.94608586e-01,\n",
              "        6.27299579e-02,  1.31431080e+00,  1.97533222e+00,  4.83255311e-01,\n",
              "       -9.18163044e-02,  1.86629965e+00,  1.12426883e-01,  7.96155755e-02,\n",
              "       -3.43781159e-01, -3.01186339e-01,  2.55405106e-01, -2.72675415e-01,\n",
              "        4.33152856e-01,  1.07167979e-01,  5.71301488e-01, -3.65811143e-01,\n",
              "       -1.84096983e-01,  2.59634677e-01,  8.44739669e-02,  1.16225041e-01,\n",
              "        1.18618327e+00, -1.05588866e+00, -1.92531911e+00,  7.41063995e-01,\n",
              "       -2.25619867e-01,  1.36557115e+00, -6.91680767e-02, -1.15299609e+00,\n",
              "        2.20967326e+00,  4.16474443e-01, -4.36370065e-01, -7.36003886e-01,\n",
              "        5.77436642e-01, -6.61492763e-01,  4.04745377e-01,  1.17892344e+00,\n",
              "       -1.37460854e+00, -3.42269285e-01,  4.93190798e-01,  1.67419420e+00,\n",
              "        9.43233691e-01, -4.41555599e-01,  1.47481586e+00, -3.45749659e-01,\n",
              "       -1.50040126e-01,  3.89896938e-01, -1.08308193e+00,  3.08547984e+00,\n",
              "        1.20884340e+00,  2.30186339e-01, -5.57802141e-01, -1.14851471e+00,\n",
              "        3.81971017e-01,  7.04365602e-01, -3.88899963e-01, -1.85506898e-01,\n",
              "        5.66330561e-01, -5.14316746e-02, -1.84623690e+00,  6.74638603e-01,\n",
              "        2.52036725e-01,  7.38055640e-01, -7.47455035e-01, -2.11733639e+00,\n",
              "       -1.24066567e+00,  3.05211001e-01,  2.08559027e+00,  2.35953985e+00,\n",
              "        3.09501519e-01, -1.45127282e+00, -3.30059784e-01,  4.52826884e-01,\n",
              "        4.42335688e-01,  1.00453644e-01,  1.34452292e+00, -8.93585852e-01,\n",
              "       -2.16067912e+00, -8.72209569e-01, -1.15675951e+00,  2.23833940e+00,\n",
              "       -1.81078344e-01, -1.42330841e+00,  6.21797411e-01,  1.01150219e+00,\n",
              "        5.80898468e-02,  1.97413065e-01,  1.02838433e+00,  5.19340217e-01,\n",
              "       -6.95040014e-01,  5.93706415e-01,  9.33222659e-01,  3.46441675e-01,\n",
              "        8.77310301e-01,  5.88943854e-01, -2.32237743e-01, -1.42786369e-01,\n",
              "        6.17561542e-01, -5.49857188e-01,  1.15527732e+00,  1.22211314e+00,\n",
              "       -2.02892326e+00, -6.67985788e-02, -7.47957405e-01, -6.31399197e-01,\n",
              "        1.47630647e-01, -1.66716028e-01,  5.67283300e-01,  3.23970679e-01,\n",
              "        3.72784476e-01, -7.80923775e-01, -3.46318386e-01,  1.46062736e+00,\n",
              "       -2.47755133e+00,  1.71945608e+00, -5.59273509e-01,  1.18097398e+00,\n",
              "       -2.59346818e+00, -4.17242207e-01,  8.49845257e-01,  1.51235852e-01,\n",
              "        1.01700015e+00, -8.73684243e-01, -5.58382387e-01, -6.52810234e-01,\n",
              "        5.08683548e-01,  4.63572064e-01, -1.21482075e-01, -2.62915619e-01,\n",
              "       -2.90783934e-01,  8.81631845e-02, -9.47190487e-01, -5.57949240e-02,\n",
              "       -1.42628014e-01, -5.38803680e-01, -5.68810617e-01,  1.47837068e+00,\n",
              "       -6.13257840e-01,  4.13189600e-01,  1.36901951e+00,  7.41449461e-01,\n",
              "        2.12223314e-02,  1.01479931e+00, -1.42454369e+00, -1.22979084e+00,\n",
              "       -3.95445015e-01, -2.19221836e-01, -9.46068703e-02,  1.88075025e+00,\n",
              "        1.68899606e+00, -3.71186734e-02,  2.56070265e-01, -9.06325704e-01,\n",
              "        3.19810330e-01, -1.34149193e+00,  1.40031595e+00, -5.18227724e-01,\n",
              "        5.58352650e-01, -1.30547512e+00,  1.39204144e+00,  6.12108552e-01,\n",
              "        1.96032218e+00,  6.88082154e-02, -1.61927444e+00, -7.83655538e-01,\n",
              "       -1.25498393e+00,  1.57890107e+00, -6.24035140e-01, -7.52088547e-01,\n",
              "        5.96104190e-01,  2.66923552e-01,  4.93312599e-01, -5.01478344e-01,\n",
              "       -1.99770485e+00, -1.35874699e+00, -2.19554107e+00,  1.28115129e+00,\n",
              "        9.10711662e-01, -3.73667225e-01,  6.24494021e-01,  6.74017103e-01,\n",
              "        6.37016040e-01,  5.32955071e-01,  8.84989640e-01,  8.31998074e-02,\n",
              "       -2.21975447e+00, -2.76714798e+00,  1.26613253e+00,  5.98509237e-01,\n",
              "       -2.51309108e+00,  1.75597388e-01, -8.77888581e-01, -5.47070340e-01,\n",
              "       -2.60357335e+00,  7.73042027e-01, -8.33765144e-02,  8.18447261e-01,\n",
              "        1.09093020e+00,  1.29142947e+00,  1.65147111e+00,  2.93889928e-01,\n",
              "        2.19100411e-01, -6.37850133e-01,  5.30894232e-01, -2.37211561e-01])"
            ]
          },
          "metadata": {},
          "execution_count": 19
        }
      ]
    },
    {
      "cell_type": "code",
      "source": [
        "draws[:10]"
      ],
      "metadata": {
        "colab": {
          "base_uri": "https://localhost:8080/"
        },
        "id": "EnP_7VFkTgU5",
        "outputId": "153405df-5ebd-4207-cf0f-4925178f36a8"
      },
      "execution_count": 20,
      "outputs": [
        {
          "output_type": "execute_result",
          "data": {
            "text/plain": [
              "array([-1.42382504,  1.26372846, -0.87066174, -0.25917323, -0.07534331,\n",
              "       -0.74088465, -1.3677927 ,  0.6488928 ,  0.36105811, -1.95286306])"
            ]
          },
          "metadata": {},
          "execution_count": 20
        }
      ]
    },
    {
      "cell_type": "code",
      "source": [
        "#equally distributed in 4 columns \n",
        "bins = pd.qcut(draws,4)\n",
        "bins"
      ],
      "metadata": {
        "colab": {
          "base_uri": "https://localhost:8080/"
        },
        "id": "cIAFi9vxTgSR",
        "outputId": "7c2c1a2d-7ce3-4a07-c0e3-def18f79c65e"
      },
      "execution_count": 21,
      "outputs": [
        {
          "output_type": "execute_result",
          "data": {
            "text/plain": [
              "[(-3.121, -0.675], (0.687, 3.211], (-3.121, -0.675], (-0.675, 0.0134], (-0.675, 0.0134], ..., (0.0134, 0.687], (0.0134, 0.687], (-0.675, 0.0134], (0.0134, 0.687], (-0.675, 0.0134]]\n",
              "Length: 1000\n",
              "Categories (4, interval[float64, right]): [(-3.121, -0.675] < (-0.675, 0.0134] < (0.0134, 0.687] <\n",
              "                                           (0.687, 3.211]]"
            ]
          },
          "metadata": {},
          "execution_count": 21
        }
      ]
    },
    {
      "cell_type": "code",
      "source": [
        "bins = pd.qcut(draws,4,labels=['q1','q2','q3','q4'])\n",
        "bins"
      ],
      "metadata": {
        "colab": {
          "base_uri": "https://localhost:8080/"
        },
        "id": "6atbYwSeTgPB",
        "outputId": "050cb568-fdf0-4b92-8192-25a9c0f394c7"
      },
      "execution_count": 22,
      "outputs": [
        {
          "output_type": "execute_result",
          "data": {
            "text/plain": [
              "['q1', 'q4', 'q1', 'q2', 'q2', ..., 'q3', 'q3', 'q2', 'q3', 'q2']\n",
              "Length: 1000\n",
              "Categories (4, object): ['q1' < 'q2' < 'q3' < 'q4']"
            ]
          },
          "metadata": {},
          "execution_count": 22
        }
      ]
    },
    {
      "cell_type": "code",
      "source": [
        "bins.codes[:500]"
      ],
      "metadata": {
        "colab": {
          "base_uri": "https://localhost:8080/"
        },
        "id": "0FrZ94RfTgMR",
        "outputId": "21bea6d1-1bcd-4d50-8ac5-c25a63aab031"
      },
      "execution_count": 23,
      "outputs": [
        {
          "output_type": "execute_result",
          "data": {
            "text/plain": [
              "array([0, 3, 0, 1, 1, 0, 0, 2, 2, 0, 3, 3, 0, 3, 1, 1, 3, 0, 2, 3, 3, 1,\n",
              "       3, 0, 1, 2, 0, 1, 3, 3, 3, 3, 0, 0, 0, 2, 3, 1, 0, 2, 2, 1, 3, 1,\n",
              "       1, 0, 2, 3, 2, 2, 2, 2, 2, 2, 2, 0, 2, 0, 2, 0, 1, 2, 1, 2, 0, 0,\n",
              "       3, 0, 2, 0, 0, 0, 1, 2, 0, 1, 3, 1, 0, 2, 1, 0, 0, 3, 1, 1, 0, 3,\n",
              "       3, 3, 1, 2, 3, 3, 2, 1, 1, 0, 0, 2, 1, 0, 1, 3, 1, 0, 1, 3, 2, 1,\n",
              "       3, 3, 1, 3, 2, 3, 3, 3, 2, 1, 0, 1, 3, 2, 2, 2, 2, 2, 0, 0, 1, 0,\n",
              "       3, 1, 1, 0, 2, 1, 3, 3, 0, 2, 0, 1, 3, 3, 2, 1, 0, 0, 2, 3, 0, 2,\n",
              "       2, 3, 0, 1, 2, 0, 0, 0, 1, 2, 1, 2, 0, 0, 3, 1, 1, 3, 3, 3, 2, 1,\n",
              "       2, 2, 3, 2, 2, 1, 3, 0, 2, 3, 0, 3, 1, 1, 0, 3, 2, 1, 2, 2, 3, 2,\n",
              "       0, 1, 0, 0, 3, 2, 1, 1, 3, 2, 3, 2, 1, 3, 0, 0, 1, 0, 1, 1, 3, 2,\n",
              "       2, 0, 0, 3, 0, 3, 0, 2, 0, 2, 0, 1, 3, 1, 3, 1, 0, 2, 1, 3, 3, 3,\n",
              "       2, 3, 3, 2, 0, 0, 2, 3, 3, 0, 2, 2, 0, 2, 0, 2, 3, 0, 2, 0, 0, 3,\n",
              "       0, 1, 1, 1, 2, 2, 3, 3, 1, 3, 3, 0, 2, 3, 3, 2, 0, 1, 0, 1, 3, 2,\n",
              "       3, 1, 0, 0, 2, 0, 1, 3, 0, 0, 1, 1, 1, 0, 2, 1, 2, 0, 2, 2, 1, 1,\n",
              "       1, 3, 0, 0, 0, 1, 0, 1, 3, 0, 0, 1, 0, 2, 2, 0, 0, 3, 2, 2, 2, 1,\n",
              "       3, 1, 1, 3, 2, 0, 0, 3, 2, 3, 1, 0, 2, 3, 2, 2, 3, 0, 0, 0, 1, 2,\n",
              "       3, 2, 3, 0, 3, 0, 3, 0, 2, 2, 2, 3, 1, 1, 2, 0, 0, 0, 1, 3, 3, 0,\n",
              "       0, 3, 1, 0, 0, 0, 0, 2, 2, 0, 1, 0, 0, 0, 3, 1, 2, 3, 1, 2, 2, 2,\n",
              "       3, 2, 1, 2, 3, 3, 1, 0, 0, 1, 2, 3, 0, 1, 0, 2, 3, 0, 1, 0, 2, 0,\n",
              "       0, 0, 3, 3, 2, 0, 2, 0, 2, 0, 1, 1, 2, 1, 3, 2, 0, 3, 1, 1, 3, 0,\n",
              "       2, 0, 3, 1, 2, 0, 3, 0, 3, 3, 3, 3, 0, 2, 2, 2, 3, 2, 0, 1, 3, 0,\n",
              "       2, 0, 3, 0, 1, 1, 2, 3, 3, 0, 3, 0, 0, 0, 2, 2, 0, 2, 1, 3, 1, 3,\n",
              "       2, 0, 3, 2, 3, 3, 0, 1, 0, 0, 2, 2, 3, 3, 1, 0], dtype=int8)"
            ]
          },
          "metadata": {},
          "execution_count": 23
        }
      ]
    },
    {
      "cell_type": "code",
      "source": [
        "bins = pd.Series(bins,name=\"quartile\")\n",
        "bins"
      ],
      "metadata": {
        "colab": {
          "base_uri": "https://localhost:8080/"
        },
        "id": "xgUyrl8_TgJZ",
        "outputId": "df865bac-f419-468e-9856-d64d8fad33d5"
      },
      "execution_count": 24,
      "outputs": [
        {
          "output_type": "execute_result",
          "data": {
            "text/plain": [
              "0      q1\n",
              "1      q4\n",
              "2      q1\n",
              "3      q2\n",
              "4      q2\n",
              "       ..\n",
              "995    q3\n",
              "996    q3\n",
              "997    q2\n",
              "998    q3\n",
              "999    q2\n",
              "Name: quartile, Length: 1000, dtype: category\n",
              "Categories (4, object): ['q1' < 'q2' < 'q3' < 'q4']"
            ]
          },
          "metadata": {},
          "execution_count": 24
        }
      ]
    },
    {
      "cell_type": "code",
      "source": [
        "results  = (pd.Series(draws)\n",
        "            .groupby(bins)\n",
        "            .agg(['count','min','max'])\n",
        "            .reset_index())\n",
        "results "
      ],
      "metadata": {
        "colab": {
          "base_uri": "https://localhost:8080/",
          "height": 175
        },
        "id": "AKKIASwxTgGh",
        "outputId": "29236dcf-401d-4cd2-9ea5-8c81753d04f2"
      },
      "execution_count": 25,
      "outputs": [
        {
          "output_type": "execute_result",
          "data": {
            "text/plain": [
              "  quartile  count       min       max\n",
              "0       q1    250 -3.119609 -0.678494\n",
              "1       q2    250 -0.673305  0.008009\n",
              "2       q3    250  0.018753  0.686183\n",
              "3       q4    250  0.688282  3.211418"
            ],
            "text/html": [
              "\n",
              "  <div id=\"df-f1929661-ac4d-400c-9373-ace59ec8092e\">\n",
              "    <div class=\"colab-df-container\">\n",
              "      <div>\n",
              "<style scoped>\n",
              "    .dataframe tbody tr th:only-of-type {\n",
              "        vertical-align: middle;\n",
              "    }\n",
              "\n",
              "    .dataframe tbody tr th {\n",
              "        vertical-align: top;\n",
              "    }\n",
              "\n",
              "    .dataframe thead th {\n",
              "        text-align: right;\n",
              "    }\n",
              "</style>\n",
              "<table border=\"1\" class=\"dataframe\">\n",
              "  <thead>\n",
              "    <tr style=\"text-align: right;\">\n",
              "      <th></th>\n",
              "      <th>quartile</th>\n",
              "      <th>count</th>\n",
              "      <th>min</th>\n",
              "      <th>max</th>\n",
              "    </tr>\n",
              "  </thead>\n",
              "  <tbody>\n",
              "    <tr>\n",
              "      <th>0</th>\n",
              "      <td>q1</td>\n",
              "      <td>250</td>\n",
              "      <td>-3.119609</td>\n",
              "      <td>-0.678494</td>\n",
              "    </tr>\n",
              "    <tr>\n",
              "      <th>1</th>\n",
              "      <td>q2</td>\n",
              "      <td>250</td>\n",
              "      <td>-0.673305</td>\n",
              "      <td>0.008009</td>\n",
              "    </tr>\n",
              "    <tr>\n",
              "      <th>2</th>\n",
              "      <td>q3</td>\n",
              "      <td>250</td>\n",
              "      <td>0.018753</td>\n",
              "      <td>0.686183</td>\n",
              "    </tr>\n",
              "    <tr>\n",
              "      <th>3</th>\n",
              "      <td>q4</td>\n",
              "      <td>250</td>\n",
              "      <td>0.688282</td>\n",
              "      <td>3.211418</td>\n",
              "    </tr>\n",
              "  </tbody>\n",
              "</table>\n",
              "</div>\n",
              "      <button class=\"colab-df-convert\" onclick=\"convertToInteractive('df-f1929661-ac4d-400c-9373-ace59ec8092e')\"\n",
              "              title=\"Convert this dataframe to an interactive table.\"\n",
              "              style=\"display:none;\">\n",
              "        \n",
              "  <svg xmlns=\"http://www.w3.org/2000/svg\" height=\"24px\"viewBox=\"0 0 24 24\"\n",
              "       width=\"24px\">\n",
              "    <path d=\"M0 0h24v24H0V0z\" fill=\"none\"/>\n",
              "    <path d=\"M18.56 5.44l.94 2.06.94-2.06 2.06-.94-2.06-.94-.94-2.06-.94 2.06-2.06.94zm-11 1L8.5 8.5l.94-2.06 2.06-.94-2.06-.94L8.5 2.5l-.94 2.06-2.06.94zm10 10l.94 2.06.94-2.06 2.06-.94-2.06-.94-.94-2.06-.94 2.06-2.06.94z\"/><path d=\"M17.41 7.96l-1.37-1.37c-.4-.4-.92-.59-1.43-.59-.52 0-1.04.2-1.43.59L10.3 9.45l-7.72 7.72c-.78.78-.78 2.05 0 2.83L4 21.41c.39.39.9.59 1.41.59.51 0 1.02-.2 1.41-.59l7.78-7.78 2.81-2.81c.8-.78.8-2.07 0-2.86zM5.41 20L4 18.59l7.72-7.72 1.47 1.35L5.41 20z\"/>\n",
              "  </svg>\n",
              "      </button>\n",
              "      \n",
              "  <style>\n",
              "    .colab-df-container {\n",
              "      display:flex;\n",
              "      flex-wrap:wrap;\n",
              "      gap: 12px;\n",
              "    }\n",
              "\n",
              "    .colab-df-convert {\n",
              "      background-color: #E8F0FE;\n",
              "      border: none;\n",
              "      border-radius: 50%;\n",
              "      cursor: pointer;\n",
              "      display: none;\n",
              "      fill: #1967D2;\n",
              "      height: 32px;\n",
              "      padding: 0 0 0 0;\n",
              "      width: 32px;\n",
              "    }\n",
              "\n",
              "    .colab-df-convert:hover {\n",
              "      background-color: #E2EBFA;\n",
              "      box-shadow: 0px 1px 2px rgba(60, 64, 67, 0.3), 0px 1px 3px 1px rgba(60, 64, 67, 0.15);\n",
              "      fill: #174EA6;\n",
              "    }\n",
              "\n",
              "    [theme=dark] .colab-df-convert {\n",
              "      background-color: #3B4455;\n",
              "      fill: #D2E3FC;\n",
              "    }\n",
              "\n",
              "    [theme=dark] .colab-df-convert:hover {\n",
              "      background-color: #434B5C;\n",
              "      box-shadow: 0px 1px 3px 1px rgba(0, 0, 0, 0.15);\n",
              "      filter: drop-shadow(0px 1px 2px rgba(0, 0, 0, 0.3));\n",
              "      fill: #FFFFFF;\n",
              "    }\n",
              "  </style>\n",
              "\n",
              "      <script>\n",
              "        const buttonEl =\n",
              "          document.querySelector('#df-f1929661-ac4d-400c-9373-ace59ec8092e button.colab-df-convert');\n",
              "        buttonEl.style.display =\n",
              "          google.colab.kernel.accessAllowed ? 'block' : 'none';\n",
              "\n",
              "        async function convertToInteractive(key) {\n",
              "          const element = document.querySelector('#df-f1929661-ac4d-400c-9373-ace59ec8092e');\n",
              "          const dataTable =\n",
              "            await google.colab.kernel.invokeFunction('convertToInteractive',\n",
              "                                                     [key], {});\n",
              "          if (!dataTable) return;\n",
              "\n",
              "          const docLinkHtml = 'Like what you see? Visit the ' +\n",
              "            '<a target=\"_blank\" href=https://colab.research.google.com/notebooks/data_table.ipynb>data table notebook</a>'\n",
              "            + ' to learn more about interactive tables.';\n",
              "          element.innerHTML = '';\n",
              "          dataTable['output_type'] = 'display_data';\n",
              "          await google.colab.output.renderOutput(dataTable, element);\n",
              "          const docLink = document.createElement('div');\n",
              "          docLink.innerHTML = docLinkHtml;\n",
              "          element.appendChild(docLink);\n",
              "        }\n",
              "      </script>\n",
              "    </div>\n",
              "  </div>\n",
              "  "
            ]
          },
          "metadata": {},
          "execution_count": 25
        }
      ]
    },
    {
      "cell_type": "code",
      "source": [
        "results['quartile']"
      ],
      "metadata": {
        "colab": {
          "base_uri": "https://localhost:8080/"
        },
        "id": "cSD9RyTtTgDp",
        "outputId": "3155ba09-1f49-44e8-d65e-014dc8c6a510"
      },
      "execution_count": 26,
      "outputs": [
        {
          "output_type": "execute_result",
          "data": {
            "text/plain": [
              "0    q1\n",
              "1    q2\n",
              "2    q3\n",
              "3    q4\n",
              "Name: quartile, dtype: category\n",
              "Categories (4, object): ['q1' < 'q2' < 'q3' < 'q4']"
            ]
          },
          "metadata": {},
          "execution_count": 26
        }
      ]
    },
    {
      "cell_type": "markdown",
      "source": [
        "# 🧨4.3 Categorical Methods "
      ],
      "metadata": {
        "id": "25ZYmFP1JDqE"
      }
    },
    {
      "cell_type": "code",
      "source": [
        "s = pd.Series(['Axe','Axeor','A','B']*2)\n",
        "cate_s = s.astype('category')\n",
        "cate_s "
      ],
      "metadata": {
        "id": "A-i41WebInkn",
        "colab": {
          "base_uri": "https://localhost:8080/"
        },
        "outputId": "d9f7e01f-0d6a-4fc3-ab68-5ba0cdb9fd49"
      },
      "execution_count": 27,
      "outputs": [
        {
          "output_type": "execute_result",
          "data": {
            "text/plain": [
              "0      Axe\n",
              "1    Axeor\n",
              "2        A\n",
              "3        B\n",
              "4      Axe\n",
              "5    Axeor\n",
              "6        A\n",
              "7        B\n",
              "dtype: category\n",
              "Categories (4, object): ['A', 'Axe', 'Axeor', 'B']"
            ]
          },
          "metadata": {},
          "execution_count": 27
        }
      ]
    },
    {
      "cell_type": "code",
      "source": [
        "cate_s.cat.codes"
      ],
      "metadata": {
        "colab": {
          "base_uri": "https://localhost:8080/"
        },
        "id": "Pnm5leItlDUD",
        "outputId": "9c0a8c02-c0eb-4ed2-99a8-3c0b1e89d478"
      },
      "execution_count": 28,
      "outputs": [
        {
          "output_type": "execute_result",
          "data": {
            "text/plain": [
              "0    1\n",
              "1    2\n",
              "2    0\n",
              "3    3\n",
              "4    1\n",
              "5    2\n",
              "6    0\n",
              "7    3\n",
              "dtype: int8"
            ]
          },
          "metadata": {},
          "execution_count": 28
        }
      ]
    },
    {
      "cell_type": "code",
      "source": [
        "cate_s.cat.categories"
      ],
      "metadata": {
        "colab": {
          "base_uri": "https://localhost:8080/"
        },
        "id": "7Sj8KsjwlY3a",
        "outputId": "b956e121-4fd2-4d3e-fa5e-8ffb98dd1fa9"
      },
      "execution_count": 29,
      "outputs": [
        {
          "output_type": "execute_result",
          "data": {
            "text/plain": [
              "Index(['A', 'Axe', 'Axeor', 'B'], dtype='object')"
            ]
          },
          "metadata": {},
          "execution_count": 29
        }
      ]
    },
    {
      "cell_type": "code",
      "source": [
        "actual_categories =['Axe','Axeor','A','B','D',\"E\" ]\n",
        "cate_s2 = cate_s.cat.set_categories(actual_categories)\n",
        "cate_s2"
      ],
      "metadata": {
        "colab": {
          "base_uri": "https://localhost:8080/"
        },
        "id": "Y2QM3JYHl_y5",
        "outputId": "23637c41-d9e5-4976-c8b4-5e51ab976e91"
      },
      "execution_count": 31,
      "outputs": [
        {
          "output_type": "execute_result",
          "data": {
            "text/plain": [
              "0      Axe\n",
              "1    Axeor\n",
              "2        A\n",
              "3        B\n",
              "4      Axe\n",
              "5    Axeor\n",
              "6        A\n",
              "7        B\n",
              "dtype: category\n",
              "Categories (6, object): ['Axe', 'Axeor', 'A', 'B', 'D', 'E']"
            ]
          },
          "metadata": {},
          "execution_count": 31
        }
      ]
    },
    {
      "cell_type": "code",
      "source": [
        "cate_s.value_counts()"
      ],
      "metadata": {
        "colab": {
          "base_uri": "https://localhost:8080/"
        },
        "id": "_0b44-TxVOfg",
        "outputId": "f3608269-35d3-4c03-ac00-4f04de3ca432"
      },
      "execution_count": 35,
      "outputs": [
        {
          "output_type": "execute_result",
          "data": {
            "text/plain": [
              "A        2\n",
              "Axe      2\n",
              "Axeor    2\n",
              "B        2\n",
              "dtype: int64"
            ]
          },
          "metadata": {},
          "execution_count": 35
        }
      ]
    },
    {
      "cell_type": "code",
      "source": [
        "cate_s2.value_counts()"
      ],
      "metadata": {
        "colab": {
          "base_uri": "https://localhost:8080/"
        },
        "id": "_B40E0_OVY9p",
        "outputId": "d7eb2533-1f99-40e1-86f8-26e7be72b559"
      },
      "execution_count": 36,
      "outputs": [
        {
          "output_type": "execute_result",
          "data": {
            "text/plain": [
              "Axe      2\n",
              "Axeor    2\n",
              "A        2\n",
              "B        2\n",
              "D        0\n",
              "E        0\n",
              "dtype: int64"
            ]
          },
          "metadata": {},
          "execution_count": 36
        }
      ]
    },
    {
      "cell_type": "code",
      "source": [
        "cate_s3 =cate_s[cate_s.isin(['A','Axe'])]\n",
        "cate_s3"
      ],
      "metadata": {
        "colab": {
          "base_uri": "https://localhost:8080/"
        },
        "id": "DJDqq2A0VeJQ",
        "outputId": "7eb3bc45-0913-4271-ce22-b608bbc10d57"
      },
      "execution_count": 38,
      "outputs": [
        {
          "output_type": "execute_result",
          "data": {
            "text/plain": [
              "0    Axe\n",
              "2      A\n",
              "4    Axe\n",
              "6      A\n",
              "dtype: category\n",
              "Categories (4, object): ['A', 'Axe', 'Axeor', 'B']"
            ]
          },
          "metadata": {},
          "execution_count": 38
        }
      ]
    },
    {
      "cell_type": "code",
      "source": [
        "cate_s3.cat.remove_unused_categories()"
      ],
      "metadata": {
        "colab": {
          "base_uri": "https://localhost:8080/"
        },
        "id": "_Yetv4TVWFE3",
        "outputId": "53dbcade-0024-422d-932b-c7667b50cd21"
      },
      "execution_count": 39,
      "outputs": [
        {
          "output_type": "execute_result",
          "data": {
            "text/plain": [
              "0    Axe\n",
              "2      A\n",
              "4    Axe\n",
              "6      A\n",
              "dtype: category\n",
              "Categories (2, object): ['A', 'Axe']"
            ]
          },
          "metadata": {},
          "execution_count": 39
        }
      ]
    },
    {
      "cell_type": "code",
      "source": [],
      "metadata": {
        "id": "V5pp4tjIWR0A"
      },
      "execution_count": null,
      "outputs": []
    }
  ]
}